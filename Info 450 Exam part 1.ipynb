{
 "cells": [
  {
   "cell_type": "code",
   "execution_count": 32,
   "id": "cd6ae427",
   "metadata": {},
   "outputs": [],
   "source": [
    "#importing various libraries that can prove useful in my analysis, mainly for visualization\n",
    "\n",
    "import pandas as pd\n",
    "import numpy as np\n",
    "import matplotlib.pyplot as mp"
   ]
  },
  {
   "cell_type": "code",
   "execution_count": 31,
   "id": "0e283733",
   "metadata": {},
   "outputs": [],
   "source": [
    "#Read in the car data, this data has 5 columns based on User Id, Gender, Age, AnnualSalary and Purchased \n",
    "Cars= pd.read_csv('car_data.csv')\n",
    "data = pd.read_csv('data.csv')"
   ]
  },
  {
   "cell_type": "code",
   "execution_count": 33,
   "id": "6db12275",
   "metadata": {},
   "outputs": [],
   "source": [
    "from sklearn.model_selection import train_test_split\n",
    "from sklearn.tree import DecisionTreeRegressor\n",
    "from sklearn.metrics import mean_absolute_error"
   ]
  },
  {
   "cell_type": "code",
   "execution_count": 34,
   "id": "0e750c26",
   "metadata": {
    "scrolled": false
   },
   "outputs": [
    {
     "data": {
      "text/html": [
       "<div>\n",
       "<style scoped>\n",
       "    .dataframe tbody tr th:only-of-type {\n",
       "        vertical-align: middle;\n",
       "    }\n",
       "\n",
       "    .dataframe tbody tr th {\n",
       "        vertical-align: top;\n",
       "    }\n",
       "\n",
       "    .dataframe thead th {\n",
       "        text-align: right;\n",
       "    }\n",
       "</style>\n",
       "<table border=\"1\" class=\"dataframe\">\n",
       "  <thead>\n",
       "    <tr style=\"text-align: right;\">\n",
       "      <th></th>\n",
       "      <th>User ID</th>\n",
       "      <th>Gender</th>\n",
       "      <th>Age</th>\n",
       "      <th>AnnualSalary</th>\n",
       "      <th>Purchased</th>\n",
       "    </tr>\n",
       "  </thead>\n",
       "  <tbody>\n",
       "    <tr>\n",
       "      <th>0</th>\n",
       "      <td>385</td>\n",
       "      <td>Male</td>\n",
       "      <td>35</td>\n",
       "      <td>20000</td>\n",
       "      <td>0</td>\n",
       "    </tr>\n",
       "    <tr>\n",
       "      <th>1</th>\n",
       "      <td>681</td>\n",
       "      <td>Male</td>\n",
       "      <td>40</td>\n",
       "      <td>43500</td>\n",
       "      <td>0</td>\n",
       "    </tr>\n",
       "    <tr>\n",
       "      <th>2</th>\n",
       "      <td>353</td>\n",
       "      <td>Male</td>\n",
       "      <td>49</td>\n",
       "      <td>74000</td>\n",
       "      <td>0</td>\n",
       "    </tr>\n",
       "    <tr>\n",
       "      <th>3</th>\n",
       "      <td>895</td>\n",
       "      <td>Male</td>\n",
       "      <td>40</td>\n",
       "      <td>107500</td>\n",
       "      <td>1</td>\n",
       "    </tr>\n",
       "    <tr>\n",
       "      <th>4</th>\n",
       "      <td>661</td>\n",
       "      <td>Male</td>\n",
       "      <td>25</td>\n",
       "      <td>79000</td>\n",
       "      <td>0</td>\n",
       "    </tr>\n",
       "    <tr>\n",
       "      <th>...</th>\n",
       "      <td>...</td>\n",
       "      <td>...</td>\n",
       "      <td>...</td>\n",
       "      <td>...</td>\n",
       "      <td>...</td>\n",
       "    </tr>\n",
       "    <tr>\n",
       "      <th>995</th>\n",
       "      <td>863</td>\n",
       "      <td>Male</td>\n",
       "      <td>38</td>\n",
       "      <td>59000</td>\n",
       "      <td>0</td>\n",
       "    </tr>\n",
       "    <tr>\n",
       "      <th>996</th>\n",
       "      <td>800</td>\n",
       "      <td>Female</td>\n",
       "      <td>47</td>\n",
       "      <td>23500</td>\n",
       "      <td>0</td>\n",
       "    </tr>\n",
       "    <tr>\n",
       "      <th>997</th>\n",
       "      <td>407</td>\n",
       "      <td>Female</td>\n",
       "      <td>28</td>\n",
       "      <td>138500</td>\n",
       "      <td>1</td>\n",
       "    </tr>\n",
       "    <tr>\n",
       "      <th>998</th>\n",
       "      <td>299</td>\n",
       "      <td>Female</td>\n",
       "      <td>48</td>\n",
       "      <td>134000</td>\n",
       "      <td>1</td>\n",
       "    </tr>\n",
       "    <tr>\n",
       "      <th>999</th>\n",
       "      <td>687</td>\n",
       "      <td>Female</td>\n",
       "      <td>44</td>\n",
       "      <td>73500</td>\n",
       "      <td>0</td>\n",
       "    </tr>\n",
       "  </tbody>\n",
       "</table>\n",
       "<p>1000 rows × 5 columns</p>\n",
       "</div>"
      ],
      "text/plain": [
       "     User ID  Gender  Age  AnnualSalary  Purchased\n",
       "0        385    Male   35         20000          0\n",
       "1        681    Male   40         43500          0\n",
       "2        353    Male   49         74000          0\n",
       "3        895    Male   40        107500          1\n",
       "4        661    Male   25         79000          0\n",
       "..       ...     ...  ...           ...        ...\n",
       "995      863    Male   38         59000          0\n",
       "996      800  Female   47         23500          0\n",
       "997      407  Female   28        138500          1\n",
       "998      299  Female   48        134000          1\n",
       "999      687  Female   44         73500          0\n",
       "\n",
       "[1000 rows x 5 columns]"
      ]
     },
     "execution_count": 34,
     "metadata": {},
     "output_type": "execute_result"
    }
   ],
   "source": [
    "Cars"
   ]
  },
  {
   "cell_type": "code",
   "execution_count": 56,
   "id": "58ab6579",
   "metadata": {
    "scrolled": true
   },
   "outputs": [
    {
     "data": {
      "image/png": "[encoded data removed]",
      "text/plain": [
       "<Figure size 432x288 with 1 Axes>"
      ]
     },
     "metadata": {
      "needs_background": "light"
     },
     "output_type": "display_data"
    }
   ],
   "source": [
    "#This visualization was to check for the correlation between the age group and the purchases. I was trying to see if a certain age group were more likely to purchase \n",
    "#I also wanted to group the ages into the categories \n",
    "K=1000\n",
    "df = pd.DataFrame({'age': np.random.randint(18, 99, K),\n",
    "                   'Purchased': 20 + 402*np.abs(np.random.randn(K))})\n",
    "\n",
    "df['group'] = pd.cut(df['age'], bins = [18, 30, 50, 99], include_lowest = True, labels = ['18-30', '30-50', '50-99'])\n",
    "\n",
    "df = df.groupby(by = 'group').mean()\n",
    "\n",
    "\n",
    "fig, ax = mp.subplots()\n",
    "\n",
    "ax.bar(x = df.index, height = df['Purchased'])\n",
    "\n",
    "mp.show()"
   ]
  },
  {
   "cell_type": "code",
   "execution_count": 69,
   "id": "94ac857c",
   "metadata": {},
   "outputs": [
    {
     "data": {
      "text/html": [
       "<div>\n",
       "<style scoped>\n",
       "    .dataframe tbody tr th:only-of-type {\n",
       "        vertical-align: middle;\n",
       "    }\n",
       "\n",
       "    .dataframe tbody tr th {\n",
       "        vertical-align: top;\n",
       "    }\n",
       "\n",
       "    .dataframe thead th {\n",
       "        text-align: right;\n",
       "    }\n",
       "</style>\n",
       "<table border=\"1\" class=\"dataframe\">\n",
       "  <thead>\n",
       "    <tr style=\"text-align: right;\">\n",
       "      <th></th>\n",
       "      <th>age</th>\n",
       "      <th>Purchased</th>\n",
       "    </tr>\n",
       "    <tr>\n",
       "      <th>group</th>\n",
       "      <th></th>\n",
       "      <th></th>\n",
       "    </tr>\n",
       "  </thead>\n",
       "  <tbody>\n",
       "    <tr>\n",
       "      <th>18-30</th>\n",
       "      <td>24.320988</td>\n",
       "      <td>320.344116</td>\n",
       "    </tr>\n",
       "    <tr>\n",
       "      <th>30-50</th>\n",
       "      <td>41.130802</td>\n",
       "      <td>326.776000</td>\n",
       "    </tr>\n",
       "    <tr>\n",
       "      <th>50-99</th>\n",
       "      <td>73.855241</td>\n",
       "      <td>349.894000</td>\n",
       "    </tr>\n",
       "  </tbody>\n",
       "</table>\n",
       "</div>"
      ],
      "text/plain": [
       "             age   Purchased\n",
       "group                       \n",
       "18-30  24.320988  320.344116\n",
       "30-50  41.130802  326.776000\n",
       "50-99  73.855241  349.894000"
      ]
     },
     "execution_count": 69,
     "metadata": {},
     "output_type": "execute_result"
    }
   ],
   "source": [
    "df.head()"
   ]
  },
  {
   "cell_type": "code",
   "execution_count": 36,
   "id": "b35cc9ee",
   "metadata": {
    "scrolled": false
   },
   "outputs": [
    {
     "data": {
      "text/html": [
       "<div>\n",
       "<style scoped>\n",
       "    .dataframe tbody tr th:only-of-type {\n",
       "        vertical-align: middle;\n",
       "    }\n",
       "\n",
       "    .dataframe tbody tr th {\n",
       "        vertical-align: top;\n",
       "    }\n",
       "\n",
       "    .dataframe thead th {\n",
       "        text-align: right;\n",
       "    }\n",
       "</style>\n",
       "<table border=\"1\" class=\"dataframe\">\n",
       "  <thead>\n",
       "    <tr style=\"text-align: right;\">\n",
       "      <th></th>\n",
       "      <th>brand</th>\n",
       "      <th>name</th>\n",
       "      <th>bodyType</th>\n",
       "      <th>color</th>\n",
       "      <th>fuelType</th>\n",
       "      <th>mileage</th>\n",
       "      <th>transmission</th>\n",
       "      <th>price</th>\n",
       "    </tr>\n",
       "  </thead>\n",
       "  <tbody>\n",
       "    <tr>\n",
       "      <th>0</th>\n",
       "      <td>Fiat</td>\n",
       "      <td>124 Spider</td>\n",
       "      <td>open</td>\n",
       "      <td>blue</td>\n",
       "      <td>Gasoline</td>\n",
       "      <td>8000.0</td>\n",
       "      <td>Automatic</td>\n",
       "      <td>1830000</td>\n",
       "    </tr>\n",
       "    <tr>\n",
       "      <th>1</th>\n",
       "      <td>BMW</td>\n",
       "      <td>i3</td>\n",
       "      <td>hatchback 5 doors</td>\n",
       "      <td>black</td>\n",
       "      <td>Electro</td>\n",
       "      <td>12000.0</td>\n",
       "      <td>Automatic</td>\n",
       "      <td>1830000</td>\n",
       "    </tr>\n",
       "    <tr>\n",
       "      <th>2</th>\n",
       "      <td>Mercedes-Benz</td>\n",
       "      <td>GLE Coupe</td>\n",
       "      <td>jeep 5 doors</td>\n",
       "      <td>burgundy</td>\n",
       "      <td>Gasoline</td>\n",
       "      <td>57000.0</td>\n",
       "      <td>AT</td>\n",
       "      <td>4600000</td>\n",
       "    </tr>\n",
       "    <tr>\n",
       "      <th>3</th>\n",
       "      <td>Mercedes-Benz</td>\n",
       "      <td>G-Class</td>\n",
       "      <td>jeep 5 doors</td>\n",
       "      <td>black</td>\n",
       "      <td>Gasoline</td>\n",
       "      <td>200000.0</td>\n",
       "      <td>AT</td>\n",
       "      <td>2999999</td>\n",
       "    </tr>\n",
       "    <tr>\n",
       "      <th>4</th>\n",
       "      <td>Audi</td>\n",
       "      <td>Q7</td>\n",
       "      <td>jeep 5 doors</td>\n",
       "      <td>white</td>\n",
       "      <td>Gasoline</td>\n",
       "      <td>67000.0</td>\n",
       "      <td>Automatic</td>\n",
       "      <td>3300000</td>\n",
       "    </tr>\n",
       "    <tr>\n",
       "      <th>...</th>\n",
       "      <td>...</td>\n",
       "      <td>...</td>\n",
       "      <td>...</td>\n",
       "      <td>...</td>\n",
       "      <td>...</td>\n",
       "      <td>...</td>\n",
       "      <td>...</td>\n",
       "      <td>...</td>\n",
       "    </tr>\n",
       "    <tr>\n",
       "      <th>1048570</th>\n",
       "      <td>Lexus</td>\n",
       "      <td>RX350</td>\n",
       "      <td>jeep 5 doors</td>\n",
       "      <td>black</td>\n",
       "      <td>Gasoline</td>\n",
       "      <td>167000.0</td>\n",
       "      <td>AT</td>\n",
       "      <td>1799000</td>\n",
       "    </tr>\n",
       "    <tr>\n",
       "      <th>1048571</th>\n",
       "      <td>Toyota</td>\n",
       "      <td>Land Cruiser Prado</td>\n",
       "      <td>jeep 5 doors</td>\n",
       "      <td>black</td>\n",
       "      <td>Gasoline</td>\n",
       "      <td>52000.0</td>\n",
       "      <td>AT</td>\n",
       "      <td>3490000</td>\n",
       "    </tr>\n",
       "    <tr>\n",
       "      <th>1048572</th>\n",
       "      <td>Suzuki</td>\n",
       "      <td>Jimny</td>\n",
       "      <td>jeep 3 doors</td>\n",
       "      <td>white</td>\n",
       "      <td>Gasoline</td>\n",
       "      <td>1000.0</td>\n",
       "      <td>Manual</td>\n",
       "      <td>1315000</td>\n",
       "    </tr>\n",
       "    <tr>\n",
       "      <th>1048573</th>\n",
       "      <td>Toyota</td>\n",
       "      <td>Land Cruiser Prado</td>\n",
       "      <td>jeep 5 doors</td>\n",
       "      <td>white</td>\n",
       "      <td>Diesel</td>\n",
       "      <td>50000.0</td>\n",
       "      <td>AT</td>\n",
       "      <td>3600000</td>\n",
       "    </tr>\n",
       "    <tr>\n",
       "      <th>1048574</th>\n",
       "      <td>Mercedes-Benz</td>\n",
       "      <td>GLS-Class</td>\n",
       "      <td>jeep 5 doors</td>\n",
       "      <td>blue</td>\n",
       "      <td>Diesel</td>\n",
       "      <td>53000.0</td>\n",
       "      <td>AT</td>\n",
       "      <td>5600000</td>\n",
       "    </tr>\n",
       "  </tbody>\n",
       "</table>\n",
       "<p>1048575 rows × 8 columns</p>\n",
       "</div>"
      ],
      "text/plain": [
       "                 brand                name           bodyType     color  \\\n",
       "0                 Fiat          124 Spider               open      blue   \n",
       "1                  BMW                  i3  hatchback 5 doors     black   \n",
       "2        Mercedes-Benz           GLE Coupe       jeep 5 doors  burgundy   \n",
       "3        Mercedes-Benz             G-Class       jeep 5 doors     black   \n",
       "4                 Audi                  Q7       jeep 5 doors     white   \n",
       "...                ...                 ...                ...       ...   \n",
       "1048570          Lexus               RX350       jeep 5 doors     black   \n",
       "1048571         Toyota  Land Cruiser Prado       jeep 5 doors     black   \n",
       "1048572         Suzuki               Jimny       jeep 3 doors     white   \n",
       "1048573         Toyota  Land Cruiser Prado       jeep 5 doors     white   \n",
       "1048574  Mercedes-Benz           GLS-Class       jeep 5 doors      blue   \n",
       "\n",
       "         fuelType   mileage transmission    price  \n",
       "0        Gasoline    8000.0    Automatic  1830000  \n",
       "1         Electro   12000.0    Automatic  1830000  \n",
       "2        Gasoline   57000.0           AT  4600000  \n",
       "3        Gasoline  200000.0           AT  2999999  \n",
       "4        Gasoline   67000.0    Automatic  3300000  \n",
       "...           ...       ...          ...      ...  \n",
       "1048570  Gasoline  167000.0           AT  1799000  \n",
       "1048571  Gasoline   52000.0           AT  3490000  \n",
       "1048572  Gasoline    1000.0       Manual  1315000  \n",
       "1048573    Diesel   50000.0           AT  3600000  \n",
       "1048574    Diesel   53000.0           AT  5600000  \n",
       "\n",
       "[1048575 rows x 8 columns]"
      ]
     },
     "execution_count": 36,
     "metadata": {},
     "output_type": "execute_result"
    }
   ],
   "source": [
    "data"
   ]
  },
  {
   "cell_type": "code",
   "execution_count": 37,
   "id": "b1b390e2",
   "metadata": {},
   "outputs": [
    {
     "data": {
      "text/plain": [
       "0            8000.0\n",
       "1           12000.0\n",
       "2           57000.0\n",
       "3          200000.0\n",
       "4           67000.0\n",
       "             ...   \n",
       "1048570    167000.0\n",
       "1048571     52000.0\n",
       "1048572      1000.0\n",
       "1048573     50000.0\n",
       "1048574     53000.0\n",
       "Name: mileage, Length: 1048575, dtype: float64"
      ]
     },
     "execution_count": 37,
     "metadata": {},
     "output_type": "execute_result"
    }
   ],
   "source": [
    "data.mileage"
   ]
  },
  {
   "cell_type": "code",
   "execution_count": 67,
   "id": "d7b8937e",
   "metadata": {},
   "outputs": [],
   "source": [
    "merged = Cars.merge(data, left_on = 'User ID', right_on='mileage')"
   ]
  },
  {
   "cell_type": "code",
   "execution_count": 68,
   "id": "bd0857dc",
   "metadata": {},
   "outputs": [
    {
     "data": {
      "text/html": [
       "<div>\n",
       "<style scoped>\n",
       "    .dataframe tbody tr th:only-of-type {\n",
       "        vertical-align: middle;\n",
       "    }\n",
       "\n",
       "    .dataframe tbody tr th {\n",
       "        vertical-align: top;\n",
       "    }\n",
       "\n",
       "    .dataframe thead th {\n",
       "        text-align: right;\n",
       "    }\n",
       "</style>\n",
       "<table border=\"1\" class=\"dataframe\">\n",
       "  <thead>\n",
       "    <tr style=\"text-align: right;\">\n",
       "      <th></th>\n",
       "      <th>User ID</th>\n",
       "      <th>Gender</th>\n",
       "      <th>Age</th>\n",
       "      <th>AnnualSalary</th>\n",
       "      <th>Purchased</th>\n",
       "      <th>brand</th>\n",
       "      <th>name</th>\n",
       "      <th>bodyType</th>\n",
       "      <th>color</th>\n",
       "      <th>fuelType</th>\n",
       "      <th>mileage</th>\n",
       "      <th>transmission</th>\n",
       "      <th>price</th>\n",
       "    </tr>\n",
       "  </thead>\n",
       "  <tbody>\n",
       "    <tr>\n",
       "      <th>0</th>\n",
       "      <td>1000</td>\n",
       "      <td>Female</td>\n",
       "      <td>40</td>\n",
       "      <td>76500</td>\n",
       "      <td>1</td>\n",
       "      <td>Nissan</td>\n",
       "      <td>Juke</td>\n",
       "      <td>jeep 5 doors</td>\n",
       "      <td>black</td>\n",
       "      <td>Gasoline</td>\n",
       "      <td>1000.0</td>\n",
       "      <td>CVT</td>\n",
       "      <td>775000</td>\n",
       "    </tr>\n",
       "    <tr>\n",
       "      <th>1</th>\n",
       "      <td>1000</td>\n",
       "      <td>Female</td>\n",
       "      <td>40</td>\n",
       "      <td>76500</td>\n",
       "      <td>1</td>\n",
       "      <td>Honda</td>\n",
       "      <td>Insight</td>\n",
       "      <td>liftback</td>\n",
       "      <td>grey</td>\n",
       "      <td>Gasoline</td>\n",
       "      <td>1000.0</td>\n",
       "      <td>CVT</td>\n",
       "      <td>580000</td>\n",
       "    </tr>\n",
       "    <tr>\n",
       "      <th>2</th>\n",
       "      <td>1000</td>\n",
       "      <td>Female</td>\n",
       "      <td>40</td>\n",
       "      <td>76500</td>\n",
       "      <td>1</td>\n",
       "      <td>Honda</td>\n",
       "      <td>Shuttle</td>\n",
       "      <td>station wagon</td>\n",
       "      <td>white</td>\n",
       "      <td>Gasoline</td>\n",
       "      <td>1000.0</td>\n",
       "      <td>Robot</td>\n",
       "      <td>1030000</td>\n",
       "    </tr>\n",
       "    <tr>\n",
       "      <th>3</th>\n",
       "      <td>1000</td>\n",
       "      <td>Female</td>\n",
       "      <td>40</td>\n",
       "      <td>76500</td>\n",
       "      <td>1</td>\n",
       "      <td>Honda</td>\n",
       "      <td>Vezel</td>\n",
       "      <td>jeep 5 doors</td>\n",
       "      <td>white</td>\n",
       "      <td>Gasoline</td>\n",
       "      <td>1000.0</td>\n",
       "      <td>CVT</td>\n",
       "      <td>2430000</td>\n",
       "    </tr>\n",
       "    <tr>\n",
       "      <th>4</th>\n",
       "      <td>1000</td>\n",
       "      <td>Female</td>\n",
       "      <td>40</td>\n",
       "      <td>76500</td>\n",
       "      <td>1</td>\n",
       "      <td>Toyota</td>\n",
       "      <td>Hilux Surf</td>\n",
       "      <td>jeep 5 doors</td>\n",
       "      <td>grey</td>\n",
       "      <td>Diesel</td>\n",
       "      <td>1000.0</td>\n",
       "      <td>AT</td>\n",
       "      <td>920000</td>\n",
       "    </tr>\n",
       "  </tbody>\n",
       "</table>\n",
       "</div>"
      ],
      "text/plain": [
       "   User ID  Gender  Age  AnnualSalary  Purchased   brand        name  \\\n",
       "0     1000  Female   40         76500          1  Nissan        Juke   \n",
       "1     1000  Female   40         76500          1   Honda     Insight   \n",
       "2     1000  Female   40         76500          1   Honda     Shuttle   \n",
       "3     1000  Female   40         76500          1   Honda       Vezel   \n",
       "4     1000  Female   40         76500          1  Toyota  Hilux Surf   \n",
       "\n",
       "        bodyType  color  fuelType  mileage transmission    price  \n",
       "0   jeep 5 doors  black  Gasoline   1000.0          CVT   775000  \n",
       "1       liftback   grey  Gasoline   1000.0          CVT   580000  \n",
       "2  station wagon  white  Gasoline   1000.0        Robot  1030000  \n",
       "3   jeep 5 doors  white  Gasoline   1000.0          CVT  2430000  \n",
       "4   jeep 5 doors   grey    Diesel   1000.0           AT   920000  "
      ]
     },
     "execution_count": 68,
     "metadata": {},
     "output_type": "execute_result"
    }
   ],
   "source": [
    "merged.head()"
   ]
  },
  {
   "cell_type": "code",
   "execution_count": 44,
   "id": "e37cd55f",
   "metadata": {},
   "outputs": [],
   "source": [
    "grp = Cars.groupby('Age')"
   ]
  },
  {
   "cell_type": "code",
   "execution_count": 45,
   "id": "d0ed3087",
   "metadata": {
    "scrolled": true
   },
   "outputs": [
    {
     "data": {
      "text/plain": [
       "<pandas.core.groupby.generic.DataFrameGroupBy object at 0x00000235E5FC9280>"
      ]
     },
     "execution_count": 45,
     "metadata": {},
     "output_type": "execute_result"
    }
   ],
   "source": [
    "grp"
   ]
  },
  {
   "cell_type": "code",
   "execution_count": 46,
   "id": "5e9bbffa",
   "metadata": {},
   "outputs": [
    {
     "data": {
      "text/plain": [
       "pandas.core.groupby.generic.DataFrameGroupBy"
      ]
     },
     "execution_count": 46,
     "metadata": {},
     "output_type": "execute_result"
    }
   ],
   "source": [
    "type(grp)"
   ]
  },
  {
   "cell_type": "code",
   "execution_count": 47,
   "id": "d9374da9",
   "metadata": {},
   "outputs": [
    {
     "data": {
      "text/plain": [
       "(1000, 5)"
      ]
     },
     "execution_count": 47,
     "metadata": {},
     "output_type": "execute_result"
    }
   ],
   "source": [
    "Cars.shape"
   ]
  },
  {
   "cell_type": "code",
   "execution_count": 70,
   "id": "094c0802",
   "metadata": {},
   "outputs": [
    {
     "data": {
      "text/plain": [
       "<AxesSubplot:xlabel='Gender', ylabel='count'>"
      ]
     },
     "execution_count": 70,
     "metadata": {},
     "output_type": "execute_result"
    },
    {
     "data": {
      "image/png": "[encoded data removed]",
      "text/plain": [
       "<Figure size 432x288 with 1 Axes>"
      ]
     },
     "metadata": {
      "needs_background": "light"
     },
     "output_type": "display_data"
    }
   ],
   "source": [
    "#A count plot to show what gender was more likely to purchase a car. It was found that female were more likely  to purchase \n",
    "import seaborn as sb\n",
    "sb.countplot(data=Cars, x='Gender', hue='Purchased')"
   ]
  },
  {
   "cell_type": "code",
   "execution_count": 71,
   "id": "4c97ab43",
   "metadata": {},
   "outputs": [
    {
     "data": {
      "text/plain": [
       "<AxesSubplot:xlabel='Age', ylabel='Count'>"
      ]
     },
     "execution_count": 71,
     "metadata": {},
     "output_type": "execute_result"
    },
    {
     "data": {
      "image/png": "[encoded data removed]",
      "text/plain": [
       "<Figure size 432x288 with 1 Axes>"
      ]
     },
     "metadata": {
      "needs_background": "light"
     },
     "output_type": "display_data"
    }
   ],
   "source": [
    "#This visualization also shows a correlation between the age and purchased. I realised that older people were more likely to purchase a car than younger people. Also because they earn more. \n",
    "sb.histplot(data = Cars, x='Age', hue='Purchased')"
   ]
  },
  {
   "cell_type": "code",
   "execution_count": 72,
   "id": "dad51bc5",
   "metadata": {},
   "outputs": [
    {
     "data": {
      "text/plain": [
       "<AxesSubplot:xlabel='AnnualSalary', ylabel='Count'>"
      ]
     },
     "execution_count": 72,
     "metadata": {},
     "output_type": "execute_result"
    },
    {
     "data": {
      "image/png": "[encoded data removed]",
      "text/plain": [
       "<Figure size 432x288 with 1 Axes>"
      ]
     },
     "metadata": {
      "needs_background": "light"
     },
     "output_type": "display_data"
    }
   ],
   "source": [
    "# A plot to compare the annualSalary and the cars purhased. I know annualSalary is definetly going to impact purchasing power\n",
    "sb.histplot(data=Cars, x='AnnualSalary', hue='Purchased')"
   ]
  },
  {
   "cell_type": "code",
   "execution_count": 73,
   "id": "19251dec",
   "metadata": {},
   "outputs": [
    {
     "data": {
      "text/plain": [
       "<AxesSubplot:xlabel='AnnualSalary', ylabel='Count'>"
      ]
     },
     "execution_count": 73,
     "metadata": {},
     "output_type": "execute_result"
    },
    {
     "data": {
      "image/png": "[encoded data removed]",
      "text/plain": [
       "<Figure size 432x288 with 1 Axes>"
      ]
     },
     "metadata": {
      "needs_background": "light"
     },
     "output_type": "display_data"
    }
   ],
   "source": [
    "sb.histplot(data=Cars, x='AnnualSalary', hue='Gender')"
   ]
  },
  {
   "cell_type": "code",
   "execution_count": 74,
   "id": "09388d05",
   "metadata": {},
   "outputs": [
    {
     "data": {
      "text/plain": [
       "<AxesSubplot:xlabel='Age'>"
      ]
     },
     "execution_count": 74,
     "metadata": {},
     "output_type": "execute_result"
    },
    {
     "data": {
      "image/png": "[encoded data removed]",
      "text/plain": [
       "<Figure size 432x288 with 1 Axes>"
      ]
     },
     "metadata": {
      "needs_background": "light"
     },
     "output_type": "display_data"
    }
   ],
   "source": [
    "#I just wanted to know what the average age in the dataset was and also show the average age of a car buyer \n",
    "sb.boxplot(data=Cars, x='Age', hue='Purchased')"
   ]
  },
  {
   "cell_type": "code",
   "execution_count": 130,
   "id": "ea6dbb8e",
   "metadata": {},
   "outputs": [],
   "source": [
    "features=['Age', 'AnnualSalary']\n",
    "X=Cars[features]\n",
    "Y=Cars.Purchased"
   ]
  },
  {
   "cell_type": "code",
   "execution_count": 131,
   "id": "048ceb04",
   "metadata": {
    "scrolled": false
   },
   "outputs": [
    {
     "name": "stdout",
     "output_type": "stream",
     "text": [
      "0.162\n"
     ]
    }
   ],
   "source": [
    "#I ran the decision model and it was not as accurate as i wanted probably because of the random of human behavior when it comes to purchases\n",
    "train_X, val_X, train_Y, val_Y = train_test_split(X, Y,random_state = None,shuffle=True)\n",
    "\n",
    "tree_model=DecisionTreeRegressor(random_state=1)\n",
    "tree_model.fit(train_X,train_Y)\n",
    "\n",
    "model_predict=tree_model.predict(val_X)\n",
    "decision=mean_absolute_error(val_Y,model_predict)\n",
    "\n",
    "print(decision)"
   ]
  },
  {
   "cell_type": "code",
   "execution_count": 132,
   "id": "a9219a30",
   "metadata": {},
   "outputs": [],
   "source": [
    "series=pd.Series(model_predict)"
   ]
  },
  {
   "cell_type": "code",
   "execution_count": 133,
   "id": "023f025d",
   "metadata": {},
   "outputs": [
    {
     "data": {
      "text/plain": [
       "Text(0, 0.5, 'Y-Predict')"
      ]
     },
     "execution_count": 133,
     "metadata": {},
     "output_type": "execute_result"
    },
    {
     "data": {
      "image/png": "[encoded data removed]",
      "text/plain": [
       "<Figure size 432x288 with 1 Axes>"
      ]
     },
     "metadata": {
      "needs_background": "light"
     },
     "output_type": "display_data"
    }
   ],
   "source": [
    "#This a correlation model to see the whether there was a correlation the Age of a customer and annual salary in relation to if they ended up buying a car.\n",
    "mp.title('Correlation')\n",
    "mp.scatter(val_Y,series)\n",
    "mp.plot(np.unique(val_Y), np.poly1d(np.polyfit(val_Y, series, 1))(np.unique(val_Y)), color='Red')\n",
    "  \n",
    "# Labelling axes\n",
    "mp.xlabel('Y')\n",
    "mp.ylabel('Y-Predict')"
   ]
  },
  {
   "cell_type": "code",
   "execution_count": 134,
   "id": "3d17c5fa",
   "metadata": {
    "scrolled": true
   },
   "outputs": [
    {
     "name": "stdout",
     "output_type": "stream",
     "text": [
      "-0.0539467185165485\n"
     ]
    }
   ],
   "source": [
    "corr_value=val_Y.corr(series)\n",
    "print(corr_value)"
   ]
  },
  {
   "cell_type": "code",
   "execution_count": null,
   "id": "11b3a0ec",
   "metadata": {},
   "outputs": [],
   "source": []
  }
 ],
 "metadata": {
  "kernelspec": {
   "display_name": "Python 3 (ipykernel)",
   "language": "python",
   "name": "python3"
  },
  "language_info": {
   "codemirror_mode": {
    "name": "ipython",
    "version": 3
   },
   "file_extension": ".py",
   "mimetype": "text/x-python",
   "name": "python",
   "nbconvert_exporter": "python",
   "pygments_lexer": "ipython3",
   "version": "3.9.12"
  }
 },
 "nbformat": 4,
 "nbformat_minor": 5
}
