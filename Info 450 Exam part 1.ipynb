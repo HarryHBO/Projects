{
 "cells": [
  {
   "cell_type": "code",
   "execution_count": 1,
   "id": "835141da",
   "metadata": {
    "dotnet_interactive": {
     "language": "csharp"
    },
    "vscode": {
     "languageId": "dotnet-interactive.csharp"
    }
   },
   "outputs": [],
   "source": [
    "#importing various libraries that can prove useful in my analysis, mainly for visualization\n",
    "\n",
    "import pandas as pd\n",
    "import numpy as np\n",
    "import matplotlib.pyplot as mp"
   ]
  },
  {
   "cell_type": "code",
   "execution_count": 2,
   "id": "b00cfcf2",
   "metadata": {
    "dotnet_interactive": {
     "language": "csharp"
    },
    "vscode": {
     "languageId": "dotnet-interactive.csharp"
    }
   },
   "outputs": [],
   "source": [
    "#Read in the car data, this data has 5 columns based on User Id, Gender, Age, AnnualSalary and Purchased \n",
    "Cars= pd.read_csv('car_data.csv')\n",
    "data = pd.read_csv('data.csv')"
   ]
  },
  {
   "cell_type": "code",
   "execution_count": 3,
   "id": "edb3a7ba",
   "metadata": {
    "dotnet_interactive": {
     "language": "csharp"
    },
    "vscode": {
     "languageId": "dotnet-interactive.csharp"
    }
   },
   "outputs": [],
   "source": [
    "from sklearn.model_selection import train_test_split\n",
    "from sklearn.tree import DecisionTreeRegressor\n",
    "from sklearn.metrics import mean_absolute_error"
   ]
  },
  {
   "cell_type": "code",
   "execution_count": 4,
   "id": "cdc77aad",
   "metadata": {
    "dotnet_interactive": {
     "language": "csharp"
    },
    "scrolled": false,
    "vscode": {
     "languageId": "dotnet-interactive.csharp"
    }
   },
   "outputs": [
    {
     "data": {
      "text/html": [
       "<div>\n",
       "<style scoped>\n",
       "    .dataframe tbody tr th:only-of-type {\n",
       "        vertical-align: middle;\n",
       "    }\n",
       "\n",
       "    .dataframe tbody tr th {\n",
       "        vertical-align: top;\n",
       "    }\n",
       "\n",
       "    .dataframe thead th {\n",
       "        text-align: right;\n",
       "    }\n",
       "</style>\n",
       "<table border=\"1\" class=\"dataframe\">\n",
       "  <thead>\n",
       "    <tr style=\"text-align: right;\">\n",
       "      <th></th>\n",
       "      <th>User ID</th>\n",
       "      <th>Gender</th>\n",
       "      <th>Age</th>\n",
       "      <th>AnnualSalary</th>\n",
       "      <th>Purchased</th>\n",
       "    </tr>\n",
       "  </thead>\n",
       "  <tbody>\n",
       "    <tr>\n",
       "      <th>0</th>\n",
       "      <td>385</td>\n",
       "      <td>Male</td>\n",
       "      <td>35</td>\n",
       "      <td>20000</td>\n",
       "      <td>0</td>\n",
       "    </tr>\n",
       "    <tr>\n",
       "      <th>1</th>\n",
       "      <td>681</td>\n",
       "      <td>Male</td>\n",
       "      <td>40</td>\n",
       "      <td>43500</td>\n",
       "      <td>0</td>\n",
       "    </tr>\n",
       "    <tr>\n",
       "      <th>2</th>\n",
       "      <td>353</td>\n",
       "      <td>Male</td>\n",
       "      <td>49</td>\n",
       "      <td>74000</td>\n",
       "      <td>0</td>\n",
       "    </tr>\n",
       "    <tr>\n",
       "      <th>3</th>\n",
       "      <td>895</td>\n",
       "      <td>Male</td>\n",
       "      <td>40</td>\n",
       "      <td>107500</td>\n",
       "      <td>1</td>\n",
       "    </tr>\n",
       "    <tr>\n",
       "      <th>4</th>\n",
       "      <td>661</td>\n",
       "      <td>Male</td>\n",
       "      <td>25</td>\n",
       "      <td>79000</td>\n",
       "      <td>0</td>\n",
       "    </tr>\n",
       "  </tbody>\n",
       "</table>\n",
       "</div>"
      ],
      "text/plain": [
       "   User ID Gender  Age  AnnualSalary  Purchased\n",
       "0      385   Male   35         20000          0\n",
       "1      681   Male   40         43500          0\n",
       "2      353   Male   49         74000          0\n",
       "3      895   Male   40        107500          1\n",
       "4      661   Male   25         79000          0"
      ]
     },
     "execution_count": 4,
     "metadata": {},
     "output_type": "execute_result"
    }
   ],
   "source": [
    "Cars.head()"
   ]
  },
  {
   "cell_type": "code",
   "execution_count": 5,
   "id": "3efd8cbd",
   "metadata": {
    "dotnet_interactive": {
     "language": "csharp"
    },
    "scrolled": true,
    "vscode": {
     "languageId": "dotnet-interactive.csharp"
    }
   },
   "outputs": [
    {
     "data": {
      "image/png": "[encoded data removed]",
      "text/plain": [
       "<Figure size 432x288 with 1 Axes>"
      ]
     },
     "metadata": {
      "needs_background": "light"
     },
     "output_type": "display_data"
    }
   ],
   "source": [
    "#This visualization was to check for the correlation between the age group and the purchases. I was trying to see if a certain age group were more likely to purchase \n",
    "#I also wanted to group the ages into the categories \n",
    "K=1000\n",
    "df = pd.DataFrame({'age': np.random.randint(18, 99, K),\n",
    "                   'Purchased': 20 + 402*np.abs(np.random.randn(K))})\n",
    "\n",
    "df['group'] = pd.cut(df['age'], bins = [18, 30, 50, 99], include_lowest = True, labels = ['18-30', '30-50', '50-99'])\n",
    "\n",
    "df = df.groupby(by = 'group').mean()\n",
    "\n",
    "\n",
    "fig, ax = mp.subplots()\n",
    "\n",
    "ax.bar(x = df.index, height = df['Purchased'])\n",
    "\n",
    "mp.show()"
   ]
  },
  {
   "cell_type": "code",
   "execution_count": 6,
   "id": "185506c8",
   "metadata": {
    "dotnet_interactive": {
     "language": "csharp"
    },
    "vscode": {
     "languageId": "dotnet-interactive.csharp"
    }
   },
   "outputs": [
    {
     "data": {
      "text/html": [
       "<div>\n",
       "<style scoped>\n",
       "    .dataframe tbody tr th:only-of-type {\n",
       "        vertical-align: middle;\n",
       "    }\n",
       "\n",
       "    .dataframe tbody tr th {\n",
       "        vertical-align: top;\n",
       "    }\n",
       "\n",
       "    .dataframe thead th {\n",
       "        text-align: right;\n",
       "    }\n",
       "</style>\n",
       "<table border=\"1\" class=\"dataframe\">\n",
       "  <thead>\n",
       "    <tr style=\"text-align: right;\">\n",
       "      <th></th>\n",
       "      <th>age</th>\n",
       "      <th>Purchased</th>\n",
       "    </tr>\n",
       "    <tr>\n",
       "      <th>group</th>\n",
       "      <th></th>\n",
       "      <th></th>\n",
       "    </tr>\n",
       "  </thead>\n",
       "  <tbody>\n",
       "    <tr>\n",
       "      <th>18-30</th>\n",
       "      <td>24.371622</td>\n",
       "      <td>324.247231</td>\n",
       "    </tr>\n",
       "    <tr>\n",
       "      <th>30-50</th>\n",
       "      <td>40.744094</td>\n",
       "      <td>313.857116</td>\n",
       "    </tr>\n",
       "    <tr>\n",
       "      <th>50-99</th>\n",
       "      <td>74.658863</td>\n",
       "      <td>342.561745</td>\n",
       "    </tr>\n",
       "  </tbody>\n",
       "</table>\n",
       "</div>"
      ],
      "text/plain": [
       "             age   Purchased\n",
       "group                       \n",
       "18-30  24.371622  324.247231\n",
       "30-50  40.744094  313.857116\n",
       "50-99  74.658863  342.561745"
      ]
     },
     "execution_count": 6,
     "metadata": {},
     "output_type": "execute_result"
    }
   ],
   "source": [
    "df.head()"
   ]
  },
  {
   "cell_type": "code",
   "execution_count": 7,
   "id": "6fbba50f",
   "metadata": {
    "dotnet_interactive": {
     "language": "csharp"
    },
    "scrolled": false,
    "vscode": {
     "languageId": "dotnet-interactive.csharp"
    }
   },
   "outputs": [
    {
     "data": {
      "text/html": [
       "<div>\n",
       "<style scoped>\n",
       "    .dataframe tbody tr th:only-of-type {\n",
       "        vertical-align: middle;\n",
       "    }\n",
       "\n",
       "    .dataframe tbody tr th {\n",
       "        vertical-align: top;\n",
       "    }\n",
       "\n",
       "    .dataframe thead th {\n",
       "        text-align: right;\n",
       "    }\n",
       "</style>\n",
       "<table border=\"1\" class=\"dataframe\">\n",
       "  <thead>\n",
       "    <tr style=\"text-align: right;\">\n",
       "      <th></th>\n",
       "      <th>brand</th>\n",
       "      <th>name</th>\n",
       "      <th>bodyType</th>\n",
       "      <th>color</th>\n",
       "      <th>fuelType</th>\n",
       "      <th>mileage</th>\n",
       "      <th>transmission</th>\n",
       "      <th>price</th>\n",
       "    </tr>\n",
       "  </thead>\n",
       "  <tbody>\n",
       "    <tr>\n",
       "      <th>0</th>\n",
       "      <td>Fiat</td>\n",
       "      <td>124 Spider</td>\n",
       "      <td>open</td>\n",
       "      <td>blue</td>\n",
       "      <td>Gasoline</td>\n",
       "      <td>8000.0</td>\n",
       "      <td>Automatic</td>\n",
       "      <td>1830000</td>\n",
       "    </tr>\n",
       "    <tr>\n",
       "      <th>1</th>\n",
       "      <td>BMW</td>\n",
       "      <td>i3</td>\n",
       "      <td>hatchback 5 doors</td>\n",
       "      <td>black</td>\n",
       "      <td>Electro</td>\n",
       "      <td>12000.0</td>\n",
       "      <td>Automatic</td>\n",
       "      <td>1830000</td>\n",
       "    </tr>\n",
       "    <tr>\n",
       "      <th>2</th>\n",
       "      <td>Mercedes-Benz</td>\n",
       "      <td>GLE Coupe</td>\n",
       "      <td>jeep 5 doors</td>\n",
       "      <td>burgundy</td>\n",
       "      <td>Gasoline</td>\n",
       "      <td>57000.0</td>\n",
       "      <td>AT</td>\n",
       "      <td>4600000</td>\n",
       "    </tr>\n",
       "    <tr>\n",
       "      <th>3</th>\n",
       "      <td>Mercedes-Benz</td>\n",
       "      <td>G-Class</td>\n",
       "      <td>jeep 5 doors</td>\n",
       "      <td>black</td>\n",
       "      <td>Gasoline</td>\n",
       "      <td>200000.0</td>\n",
       "      <td>AT</td>\n",
       "      <td>2999999</td>\n",
       "    </tr>\n",
       "    <tr>\n",
       "      <th>4</th>\n",
       "      <td>Audi</td>\n",
       "      <td>Q7</td>\n",
       "      <td>jeep 5 doors</td>\n",
       "      <td>white</td>\n",
       "      <td>Gasoline</td>\n",
       "      <td>67000.0</td>\n",
       "      <td>Automatic</td>\n",
       "      <td>3300000</td>\n",
       "    </tr>\n",
       "  </tbody>\n",
       "</table>\n",
       "</div>"
      ],
      "text/plain": [
       "           brand        name           bodyType     color  fuelType   mileage  \\\n",
       "0           Fiat  124 Spider               open      blue  Gasoline    8000.0   \n",
       "1            BMW          i3  hatchback 5 doors     black   Electro   12000.0   \n",
       "2  Mercedes-Benz   GLE Coupe       jeep 5 doors  burgundy  Gasoline   57000.0   \n",
       "3  Mercedes-Benz     G-Class       jeep 5 doors     black  Gasoline  200000.0   \n",
       "4           Audi          Q7       jeep 5 doors     white  Gasoline   67000.0   \n",
       "\n",
       "  transmission    price  \n",
       "0    Automatic  1830000  \n",
       "1    Automatic  1830000  \n",
       "2           AT  4600000  \n",
       "3           AT  2999999  \n",
       "4    Automatic  3300000  "
      ]
     },
     "execution_count": 7,
     "metadata": {},
     "output_type": "execute_result"
    }
   ],
   "source": [
    "data.head()"
   ]
  },
  {
   "cell_type": "code",
   "execution_count": 8,
   "id": "0e3187e7",
   "metadata": {
    "dotnet_interactive": {
     "language": "csharp"
    },
    "vscode": {
     "languageId": "dotnet-interactive.csharp"
    }
   },
   "outputs": [],
   "source": [
    "merged = Cars.merge(data, left_on = 'User ID', right_on='mileage')"
   ]
  },
  {
   "cell_type": "code",
   "execution_count": 9,
   "id": "8ad563fb",
   "metadata": {
    "dotnet_interactive": {
     "language": "csharp"
    },
    "vscode": {
     "languageId": "dotnet-interactive.csharp"
    }
   },
   "outputs": [
    {
     "data": {
      "text/html": [
       "<div>\n",
       "<style scoped>\n",
       "    .dataframe tbody tr th:only-of-type {\n",
       "        vertical-align: middle;\n",
       "    }\n",
       "\n",
       "    .dataframe tbody tr th {\n",
       "        vertical-align: top;\n",
       "    }\n",
       "\n",
       "    .dataframe thead th {\n",
       "        text-align: right;\n",
       "    }\n",
       "</style>\n",
       "<table border=\"1\" class=\"dataframe\">\n",
       "  <thead>\n",
       "    <tr style=\"text-align: right;\">\n",
       "      <th></th>\n",
       "      <th>User ID</th>\n",
       "      <th>Gender</th>\n",
       "      <th>Age</th>\n",
       "      <th>AnnualSalary</th>\n",
       "      <th>Purchased</th>\n",
       "      <th>brand</th>\n",
       "      <th>name</th>\n",
       "      <th>bodyType</th>\n",
       "      <th>color</th>\n",
       "      <th>fuelType</th>\n",
       "      <th>mileage</th>\n",
       "      <th>transmission</th>\n",
       "      <th>price</th>\n",
       "    </tr>\n",
       "  </thead>\n",
       "  <tbody>\n",
       "    <tr>\n",
       "      <th>0</th>\n",
       "      <td>1000</td>\n",
       "      <td>Female</td>\n",
       "      <td>40</td>\n",
       "      <td>76500</td>\n",
       "      <td>1</td>\n",
       "      <td>Nissan</td>\n",
       "      <td>Juke</td>\n",
       "      <td>jeep 5 doors</td>\n",
       "      <td>black</td>\n",
       "      <td>Gasoline</td>\n",
       "      <td>1000.0</td>\n",
       "      <td>CVT</td>\n",
       "      <td>775000</td>\n",
       "    </tr>\n",
       "    <tr>\n",
       "      <th>1</th>\n",
       "      <td>1000</td>\n",
       "      <td>Female</td>\n",
       "      <td>40</td>\n",
       "      <td>76500</td>\n",
       "      <td>1</td>\n",
       "      <td>Honda</td>\n",
       "      <td>Insight</td>\n",
       "      <td>liftback</td>\n",
       "      <td>grey</td>\n",
       "      <td>Gasoline</td>\n",
       "      <td>1000.0</td>\n",
       "      <td>CVT</td>\n",
       "      <td>580000</td>\n",
       "    </tr>\n",
       "    <tr>\n",
       "      <th>2</th>\n",
       "      <td>1000</td>\n",
       "      <td>Female</td>\n",
       "      <td>40</td>\n",
       "      <td>76500</td>\n",
       "      <td>1</td>\n",
       "      <td>Honda</td>\n",
       "      <td>Shuttle</td>\n",
       "      <td>station wagon</td>\n",
       "      <td>white</td>\n",
       "      <td>Gasoline</td>\n",
       "      <td>1000.0</td>\n",
       "      <td>Robot</td>\n",
       "      <td>1030000</td>\n",
       "    </tr>\n",
       "    <tr>\n",
       "      <th>3</th>\n",
       "      <td>1000</td>\n",
       "      <td>Female</td>\n",
       "      <td>40</td>\n",
       "      <td>76500</td>\n",
       "      <td>1</td>\n",
       "      <td>Honda</td>\n",
       "      <td>Vezel</td>\n",
       "      <td>jeep 5 doors</td>\n",
       "      <td>white</td>\n",
       "      <td>Gasoline</td>\n",
       "      <td>1000.0</td>\n",
       "      <td>CVT</td>\n",
       "      <td>2430000</td>\n",
       "    </tr>\n",
       "    <tr>\n",
       "      <th>4</th>\n",
       "      <td>1000</td>\n",
       "      <td>Female</td>\n",
       "      <td>40</td>\n",
       "      <td>76500</td>\n",
       "      <td>1</td>\n",
       "      <td>Toyota</td>\n",
       "      <td>Hilux Surf</td>\n",
       "      <td>jeep 5 doors</td>\n",
       "      <td>grey</td>\n",
       "      <td>Diesel</td>\n",
       "      <td>1000.0</td>\n",
       "      <td>AT</td>\n",
       "      <td>920000</td>\n",
       "    </tr>\n",
       "  </tbody>\n",
       "</table>\n",
       "</div>"
      ],
      "text/plain": [
       "   User ID  Gender  Age  AnnualSalary  Purchased   brand        name  \\\n",
       "0     1000  Female   40         76500          1  Nissan        Juke   \n",
       "1     1000  Female   40         76500          1   Honda     Insight   \n",
       "2     1000  Female   40         76500          1   Honda     Shuttle   \n",
       "3     1000  Female   40         76500          1   Honda       Vezel   \n",
       "4     1000  Female   40         76500          1  Toyota  Hilux Surf   \n",
       "\n",
       "        bodyType  color  fuelType  mileage transmission    price  \n",
       "0   jeep 5 doors  black  Gasoline   1000.0          CVT   775000  \n",
       "1       liftback   grey  Gasoline   1000.0          CVT   580000  \n",
       "2  station wagon  white  Gasoline   1000.0        Robot  1030000  \n",
       "3   jeep 5 doors  white  Gasoline   1000.0          CVT  2430000  \n",
       "4   jeep 5 doors   grey    Diesel   1000.0           AT   920000  "
      ]
     },
     "execution_count": 9,
     "metadata": {},
     "output_type": "execute_result"
    }
   ],
   "source": [
    "merged.head()"
   ]
  },
  {
   "cell_type": "code",
   "execution_count": 10,
   "id": "ed9a773f",
   "metadata": {
    "dotnet_interactive": {
     "language": "csharp"
    },
    "vscode": {
     "languageId": "dotnet-interactive.csharp"
    }
   },
   "outputs": [
    {
     "data": {
      "text/plain": [
       "(999, 5)"
      ]
     },
     "execution_count": 10,
     "metadata": {},
     "output_type": "execute_result"
    }
   ],
   "source": [
    "Cars.shape"
   ]
  },
  {
   "cell_type": "code",
   "execution_count": 11,
   "id": "32ed7eda",
   "metadata": {
    "dotnet_interactive": {
     "language": "csharp"
    },
    "vscode": {
     "languageId": "dotnet-interactive.csharp"
    }
   },
   "outputs": [
    {
     "data": {
      "text/plain": [
       "<AxesSubplot:xlabel='Gender', ylabel='count'>"
      ]
     },
     "execution_count": 11,
     "metadata": {},
     "output_type": "execute_result"
    },
    {
     "data": {
      "image/png": "[encoded data removed]",
      "text/plain": [
       "<Figure size 432x288 with 1 Axes>"
      ]
     },
     "metadata": {
      "needs_background": "light"
     },
     "output_type": "display_data"
    }
   ],
   "source": [
    "#A count plot to show what gender was more likely to purchase a car. It was found that female were more likely  to purchase \n",
    "import seaborn as sb\n",
    "sb.countplot(data=Cars, x='Gender', hue='Purchased')"
   ]
  },
  {
   "cell_type": "code",
   "execution_count": 12,
   "id": "690eb2e1",
   "metadata": {
    "dotnet_interactive": {
     "language": "csharp"
    },
    "vscode": {
     "languageId": "dotnet-interactive.csharp"
    }
   },
   "outputs": [
    {
     "data": {
      "text/plain": [
       "<AxesSubplot:xlabel='Age', ylabel='Count'>"
      ]
     },
     "execution_count": 12,
     "metadata": {},
     "output_type": "execute_result"
    },
    {
     "data": {
      "image/png": "[encoded data removed]",
      "text/plain": [
       "<Figure size 432x288 with 1 Axes>"
      ]
     },
     "metadata": {
      "needs_background": "light"
     },
     "output_type": "display_data"
    }
   ],
   "source": [
    "#This visualization also shows a correlation between the age and purchased. I realised that older people were more likely to purchase a car than younger people. Also because they earn more. \n",
    "sb.histplot(data = Cars, x='Age', hue='Purchased')"
   ]
  },
  {
   "cell_type": "code",
   "execution_count": 13,
   "id": "738bd16d",
   "metadata": {
    "dotnet_interactive": {
     "language": "csharp"
    },
    "vscode": {
     "languageId": "dotnet-interactive.csharp"
    }
   },
   "outputs": [
    {
     "data": {
      "text/plain": [
       "<AxesSubplot:xlabel='AnnualSalary', ylabel='Count'>"
      ]
     },
     "execution_count": 13,
     "metadata": {},
     "output_type": "execute_result"
    },
    {
     "data": {
      "image/png": "[encoded data removed]",
      "text/plain": [
       "<Figure size 432x288 with 1 Axes>"
      ]
     },
     "metadata": {
      "needs_background": "light"
     },
     "output_type": "display_data"
    }
   ],
   "source": [
    "# A plot to compare the annualSalary and the cars purhased. I know annualSalary is definetly going to impact purchasing power\n",
    "sb.histplot(data=Cars, x='AnnualSalary', hue='Purchased')"
   ]
  },
  {
   "cell_type": "code",
   "execution_count": 14,
   "id": "c1831dea",
   "metadata": {
    "dotnet_interactive": {
     "language": "csharp"
    },
    "vscode": {
     "languageId": "dotnet-interactive.csharp"
    }
   },
   "outputs": [
    {
     "data": {
      "text/plain": [
       "<AxesSubplot:xlabel='AnnualSalary', ylabel='Count'>"
      ]
     },
     "execution_count": 14,
     "metadata": {},
     "output_type": "execute_result"
    },
    {
     "data": {
      "image/png": "[encoded data removed]",
      "text/plain": [
       "<Figure size 432x288 with 1 Axes>"
      ]
     },
     "metadata": {
      "needs_background": "light"
     },
     "output_type": "display_data"
    }
   ],
   "source": [
    "sb.histplot(data=Cars, x='AnnualSalary', hue='Gender')"
   ]
  },
  {
   "cell_type": "code",
   "execution_count": 15,
   "id": "ca3395b2",
   "metadata": {
    "dotnet_interactive": {
     "language": "csharp"
    },
    "vscode": {
     "languageId": "dotnet-interactive.csharp"
    }
   },
   "outputs": [
    {
     "data": {
      "text/plain": [
       "<AxesSubplot:xlabel='Age'>"
      ]
     },
     "execution_count": 15,
     "metadata": {},
     "output_type": "execute_result"
    },
    {
     "data": {
      "image/png": "[encoded data removed]",
      "text/plain": [
       "<Figure size 432x288 with 1 Axes>"
      ]
     },
     "metadata": {
      "needs_background": "light"
     },
     "output_type": "display_data"
    }
   ],
   "source": [
    "#I just wanted to know what the average age in the dataset was and also show the average age of a car buyer \n",
    "sb.boxplot(data=Cars, x='Age', hue='Purchased')"
   ]
  },
  {
   "cell_type": "code",
   "execution_count": 16,
   "id": "5bf0580f",
   "metadata": {
    "dotnet_interactive": {
     "language": "csharp"
    },
    "vscode": {
     "languageId": "dotnet-interactive.csharp"
    }
   },
   "outputs": [],
   "source": [
    "features=['Age', 'AnnualSalary']\n",
    "X=Cars[features]\n",
    "Y=Cars.Purchased"
   ]
  },
  {
   "cell_type": "code",
   "execution_count": 17,
   "id": "d7bfa548",
   "metadata": {
    "dotnet_interactive": {
     "language": "csharp"
    },
    "scrolled": false,
    "vscode": {
     "languageId": "dotnet-interactive.csharp"
    }
   },
   "outputs": [
    {
     "name": "stdout",
     "output_type": "stream",
     "text": [
      "0.134\n"
     ]
    }
   ],
   "source": [
    "#I ran the decision tree model and it was not as accurate as i wanted probably because of the random of human behavior when it comes to purchases\n",
    "train_X, val_X, train_Y, val_Y = train_test_split(X, Y,random_state = None,shuffle=True)\n",
    "\n",
    "tree_model=DecisionTreeRegressor(random_state=1)\n",
    "tree_model.fit(train_X,train_Y)\n",
    "\n",
    "model_predict=tree_model.predict(val_X)\n",
    "decision=mean_absolute_error(val_Y,model_predict)\n",
    "\n",
    "print(decision)"
   ]
  },
  {
   "cell_type": "code",
   "execution_count": 18,
   "id": "3b32940a",
   "metadata": {
    "dotnet_interactive": {
     "language": "csharp"
    },
    "vscode": {
     "languageId": "dotnet-interactive.csharp"
    }
   },
   "outputs": [],
   "source": [
    "series=pd.Series(model_predict)"
   ]
  },
  {
   "cell_type": "code",
   "execution_count": 19,
   "id": "6aa3993b",
   "metadata": {
    "dotnet_interactive": {
     "language": "csharp"
    },
    "vscode": {
     "languageId": "dotnet-interactive.csharp"
    }
   },
   "outputs": [
    {
     "data": {
      "text/plain": [
       "Text(0, 0.5, 'Y-Predict')"
      ]
     },
     "execution_count": 19,
     "metadata": {},
     "output_type": "execute_result"
    },
    {
     "data": {
      "image/png": "[encoded data removed]",
      "text/plain": [
       "<Figure size 432x288 with 1 Axes>"
      ]
     },
     "metadata": {
      "needs_background": "light"
     },
     "output_type": "display_data"
    }
   ],
   "source": [
    "#This a correlation model to see the whether there was a correlation the Age of a customer and annual salary in relation to if they ended up buying a car.\n",
    "mp.title('Correlation')\n",
    "mp.scatter(val_Y,series)\n",
    "mp.plot(np.unique(val_Y), np.poly1d(np.polyfit(val_Y, series, 1))(np.unique(val_Y)), color='Red')\n",
    "  \n",
    "# Labelling axes\n",
    "mp.xlabel('Y')\n",
    "mp.ylabel('Y-Predict')"
   ]
  },
  {
   "cell_type": "code",
   "execution_count": 20,
   "id": "68457938",
   "metadata": {
    "dotnet_interactive": {
     "language": "csharp"
    },
    "scrolled": true,
    "vscode": {
     "languageId": "dotnet-interactive.csharp"
    }
   },
   "outputs": [
    {
     "name": "stdout",
     "output_type": "stream",
     "text": [
      "-0.03219568887613411\n"
     ]
    }
   ],
   "source": [
    "corr_value=val_Y.corr(series)\n",
    "print(corr_value)"
   ]
  }
 ],
 "metadata": {
  "kernelspec": {
   "display_name": ".NET (C#)",
   "language": "C#",
   "name": ".net-csharp"
  },
  "language_info": {
   "file_extension": ".cs",
   "mimetype": "text/x-csharp",
   "name": "C#",
   "pygments_lexer": "csharp",
   "version": "9.0"
  }
 },
 "nbformat": 4,
 "nbformat_minor": 5
}
